{
 "cells": [
  {
   "cell_type": "code",
   "execution_count": 1,
   "id": "bdd4e8d6",
   "metadata": {},
   "outputs": [],
   "source": [
    "import pandas as pd\n",
    "import numpy as np"
   ]
  },
  {
   "cell_type": "code",
   "execution_count": null,
   "id": "7d604567",
   "metadata": {},
   "outputs": [],
   "source": [
    "train = pd.read_csv('Chicago_data_with_category.csv', parse_dates=['Dates'])"
   ]
  },
  {
   "cell_type": "code",
   "execution_count": null,
   "id": "df6e5281",
   "metadata": {},
   "outputs": [],
   "source": [
    "train['day_of_week'] = [i.day_name() for i in train.Dates]"
   ]
  },
  {
   "cell_type": "code",
   "execution_count": null,
   "id": "e51eeb64",
   "metadata": {},
   "outputs": [],
   "source": [
    "train['time'] = [i.strftime(\"%H:%M:%S\") for i in train.Dates]"
   ]
  },
  {
   "cell_type": "code",
   "execution_count": null,
   "id": "86f5d3a8",
   "metadata": {},
   "outputs": [],
   "source": [
    "train['day_of_year'] = [i.timetuple().tm_yday for i in train.Dates]"
   ]
  },
  {
   "cell_type": "code",
   "execution_count": null,
   "id": "0e9451f7",
   "metadata": {},
   "outputs": [],
   "source": [
    "import csv\n",
    "\n",
    "def write_variable_to_csv(variable, file_path):\n",
    "    with open(file_path, mode='w', newline='') as csvfile:\n",
    "        csv_writer = csv.writer(csvfile)\n",
    "        csv_writer.writerow([variable])\n",
    "\n",
    "write_variable_to_csv(train, r'C:\\Users\\curtu\\OneDrive - Durham University\\Documents\\ancsv.csv')"
   ]
  },
  {
   "cell_type": "code",
   "execution_count": null,
   "id": "970b7120",
   "metadata": {},
   "outputs": [],
   "source": [
    "import csv\n",
    "\n",
    "f = open(r'C:\\Users\\curtu\\OneDrive - Durham University\\Documents\\ancsv.csv', 'w')\n",
    "\n",
    "writer = csv.writer(f)\n",
    "\n",
    "writer.writerow(train.columns)\n",
    "for index, row in train.iterrows():\n",
    "    writer.writerow(row)\n",
    "\n",
    "f.close()"
   ]
  },
  {
   "cell_type": "code",
   "execution_count": null,
   "id": "00d4b061",
   "metadata": {},
   "outputs": [],
   "source": [
    "train.to_csv(index=False)"
   ]
  },
  {
   "cell_type": "code",
   "execution_count": 50,
   "id": "7fb4b9e5",
   "metadata": {},
   "outputs": [],
   "source": [
    "df = pd.read_csv('Fixing_anomalies_4.csv')"
   ]
  },
  {
   "cell_type": "code",
   "execution_count": 3,
   "id": "ba41a6d9",
   "metadata": {},
   "outputs": [
    {
     "data": {
      "text/html": [
       "<div>\n",
       "<style scoped>\n",
       "    .dataframe tbody tr th:only-of-type {\n",
       "        vertical-align: middle;\n",
       "    }\n",
       "\n",
       "    .dataframe tbody tr th {\n",
       "        vertical-align: top;\n",
       "    }\n",
       "\n",
       "    .dataframe thead th {\n",
       "        text-align: right;\n",
       "    }\n",
       "</style>\n",
       "<table border=\"1\" class=\"dataframe\">\n",
       "  <thead>\n",
       "    <tr style=\"text-align: right;\">\n",
       "      <th></th>\n",
       "      <th>district</th>\n",
       "      <th>year</th>\n",
       "      <th>day_of_year</th>\n",
       "      <th>hour_of_day</th>\n",
       "      <th>day_of_week</th>\n",
       "      <th>date</th>\n",
       "    </tr>\n",
       "  </thead>\n",
       "  <tbody>\n",
       "    <tr>\n",
       "      <th>0</th>\n",
       "      <td>1</td>\n",
       "      <td>2001</td>\n",
       "      <td>1</td>\n",
       "      <td>0</td>\n",
       "      <td>Monday</td>\n",
       "      <td>01-01</td>\n",
       "    </tr>\n",
       "    <tr>\n",
       "      <th>1</th>\n",
       "      <td>1</td>\n",
       "      <td>2001</td>\n",
       "      <td>1</td>\n",
       "      <td>8</td>\n",
       "      <td>Monday</td>\n",
       "      <td>01-01</td>\n",
       "    </tr>\n",
       "    <tr>\n",
       "      <th>2</th>\n",
       "      <td>1</td>\n",
       "      <td>2001</td>\n",
       "      <td>1</td>\n",
       "      <td>9</td>\n",
       "      <td>Monday</td>\n",
       "      <td>01-01</td>\n",
       "    </tr>\n",
       "    <tr>\n",
       "      <th>3</th>\n",
       "      <td>1</td>\n",
       "      <td>2001</td>\n",
       "      <td>1</td>\n",
       "      <td>10</td>\n",
       "      <td>Monday</td>\n",
       "      <td>01-01</td>\n",
       "    </tr>\n",
       "    <tr>\n",
       "      <th>4</th>\n",
       "      <td>1</td>\n",
       "      <td>2001</td>\n",
       "      <td>1</td>\n",
       "      <td>12</td>\n",
       "      <td>Monday</td>\n",
       "      <td>01-01</td>\n",
       "    </tr>\n",
       "    <tr>\n",
       "      <th>...</th>\n",
       "      <td>...</td>\n",
       "      <td>...</td>\n",
       "      <td>...</td>\n",
       "      <td>...</td>\n",
       "      <td>...</td>\n",
       "      <td>...</td>\n",
       "    </tr>\n",
       "    <tr>\n",
       "      <th>4026062</th>\n",
       "      <td>25</td>\n",
       "      <td>2017</td>\n",
       "      <td>18</td>\n",
       "      <td>21</td>\n",
       "      <td>Wednesday</td>\n",
       "      <td>01-18</td>\n",
       "    </tr>\n",
       "    <tr>\n",
       "      <th>4026063</th>\n",
       "      <td>25</td>\n",
       "      <td>2017</td>\n",
       "      <td>18</td>\n",
       "      <td>21</td>\n",
       "      <td>Wednesday</td>\n",
       "      <td>01-18</td>\n",
       "    </tr>\n",
       "    <tr>\n",
       "      <th>4026064</th>\n",
       "      <td>25</td>\n",
       "      <td>2017</td>\n",
       "      <td>18</td>\n",
       "      <td>22</td>\n",
       "      <td>Wednesday</td>\n",
       "      <td>01-18</td>\n",
       "    </tr>\n",
       "    <tr>\n",
       "      <th>4026065</th>\n",
       "      <td>25</td>\n",
       "      <td>2017</td>\n",
       "      <td>18</td>\n",
       "      <td>22</td>\n",
       "      <td>Wednesday</td>\n",
       "      <td>01-18</td>\n",
       "    </tr>\n",
       "    <tr>\n",
       "      <th>4026066</th>\n",
       "      <td>25</td>\n",
       "      <td>2017</td>\n",
       "      <td>18</td>\n",
       "      <td>22</td>\n",
       "      <td>Wednesday</td>\n",
       "      <td>01-18</td>\n",
       "    </tr>\n",
       "  </tbody>\n",
       "</table>\n",
       "<p>4026067 rows × 6 columns</p>\n",
       "</div>"
      ],
      "text/plain": [
       "         district  year  day_of_year  hour_of_day day_of_week   date\n",
       "0               1  2001            1            0      Monday  01-01\n",
       "1               1  2001            1            8      Monday  01-01\n",
       "2               1  2001            1            9      Monday  01-01\n",
       "3               1  2001            1           10      Monday  01-01\n",
       "4               1  2001            1           12      Monday  01-01\n",
       "...           ...   ...          ...          ...         ...    ...\n",
       "4026062        25  2017           18           21   Wednesday  01-18\n",
       "4026063        25  2017           18           21   Wednesday  01-18\n",
       "4026064        25  2017           18           22   Wednesday  01-18\n",
       "4026065        25  2017           18           22   Wednesday  01-18\n",
       "4026066        25  2017           18           22   Wednesday  01-18\n",
       "\n",
       "[4026067 rows x 6 columns]"
      ]
     },
     "execution_count": 3,
     "metadata": {},
     "output_type": "execute_result"
    }
   ],
   "source": [
    "df"
   ]
  },
  {
   "cell_type": "code",
   "execution_count": 36,
   "id": "f7bfe14d",
   "metadata": {},
   "outputs": [],
   "source": [
    "def redistribute(date,monthlength,factor):\n",
    "    import random\n",
    "    firstcount = 0\n",
    "    secondcount = f'{date[:2]}-{(str(random.randint(1,monthlength))).zfill(2)}'\n",
    "    for i in range(len(df['date'])):\n",
    "        if (df['date'])[i] == date and firstcount % factor == 0:\n",
    "            (df['date'])[i] = secondcount\n",
    "        firstcount += 1\n",
    "        secondcount = f'{date[:2]}-{(str(random.randint(1,monthlength))).zfill(2)}'\n",
    "        "
   ]
  },
  {
   "cell_type": "code",
   "execution_count": 51,
   "id": "31c83a68",
   "metadata": {},
   "outputs": [
    {
     "name": "stderr",
     "output_type": "stream",
     "text": [
      "C:\\Users\\curtu\\AppData\\Local\\Temp\\ipykernel_22932\\2048215876.py:7: SettingWithCopyWarning: \n",
      "A value is trying to be set on a copy of a slice from a DataFrame\n",
      "\n",
      "See the caveats in the documentation: https://pandas.pydata.org/pandas-docs/stable/user_guide/indexing.html#returning-a-view-versus-a-copy\n",
      "  (df['date'])[i] = secondcount\n"
     ]
    }
   ],
   "source": [
    "# Adjusting 1st March\n",
    "redistribute('03-01',31,10)"
   ]
  },
  {
   "cell_type": "code",
   "execution_count": 60,
   "id": "942c67e3",
   "metadata": {
    "scrolled": false
   },
   "outputs": [
    {
     "name": "stderr",
     "output_type": "stream",
     "text": [
      "C:\\Users\\curtu\\AppData\\Local\\Temp\\ipykernel_22932\\2048215876.py:7: SettingWithCopyWarning: \n",
      "A value is trying to be set on a copy of a slice from a DataFrame\n",
      "\n",
      "See the caveats in the documentation: https://pandas.pydata.org/pandas-docs/stable/user_guide/indexing.html#returning-a-view-versus-a-copy\n",
      "  (df['date'])[i] = secondcount\n"
     ]
    }
   ],
   "source": [
    "# Adjusting 1st January\n",
    "redistribute('01-01',31,6)"
   ]
  },
  {
   "cell_type": "code",
   "execution_count": 58,
   "id": "4868fda9",
   "metadata": {},
   "outputs": [
    {
     "name": "stderr",
     "output_type": "stream",
     "text": [
      "C:\\Users\\curtu\\AppData\\Local\\Temp\\ipykernel_22932\\2048215876.py:7: SettingWithCopyWarning: \n",
      "A value is trying to be set on a copy of a slice from a DataFrame\n",
      "\n",
      "See the caveats in the documentation: https://pandas.pydata.org/pandas-docs/stable/user_guide/indexing.html#returning-a-view-versus-a-copy\n",
      "  (df['date'])[i] = secondcount\n"
     ]
    }
   ],
   "source": [
    "# Adjusting 1st June\n",
    "redistribute('06-01',30,9)"
   ]
  },
  {
   "cell_type": "code",
   "execution_count": 61,
   "id": "ed0476fc",
   "metadata": {},
   "outputs": [],
   "source": [
    "import csv\n",
    "\n",
    "f = open(r'C:\\Users\\curtu\\OneDrive - Durham University\\Documents\\Chicago_data_fully_cleaned_3.csv', 'w')\n",
    "\n",
    "writer = csv.writer(f)\n",
    "\n",
    "writer.writerow(df.columns)\n",
    "for index, row in df.iterrows():\n",
    "    writer.writerow(row)\n",
    "\n",
    "f.close()"
   ]
  },
  {
   "cell_type": "code",
   "execution_count": 69,
   "id": "25b5ad49",
   "metadata": {},
   "outputs": [
    {
     "name": "stdout",
     "output_type": "stream",
     "text": [
      "         district  year  day_of_year  hour_of_day\n",
      "0               1  2001            1            0\n",
      "1               1  2001            1            1\n",
      "2               1  2001            1            2\n",
      "3               1  2001            1            3\n",
      "4               1  2001            1            4\n",
      "...           ...   ...          ...          ...\n",
      "3109387        25  2017           29           19\n",
      "3109388        25  2017           29           20\n",
      "3109389        25  2017           29           21\n",
      "3109390        25  2017           29           22\n",
      "3109391        25  2017           29           23\n",
      "\n",
      "[3109392 rows x 4 columns]\n"
     ]
    }
   ],
   "source": [
    "# Generating all possible timepoints\n",
    "import pandas as pd\n",
    "\n",
    "district_values = [district for district in range(1, 26) if district not in [13, 21, 23]]\n",
    "\n",
    "years_per_district = list(range(2001, 2018))\n",
    "\n",
    "days_per_year = list(range(1, 367)) + list(range(1, 30))\n",
    "\n",
    "hours_per_day = list(range(24))\n",
    "\n",
    "data = []\n",
    "\n",
    "for district in district_values:\n",
    "    for year in years_per_district:\n",
    "        if year == 2017:\n",
    "            days = days_per_year[-29:]  # Only use the last 31 days for the year 2017\n",
    "        elif year == 2004 or year == 2008 or year == 2012 or year == 2016:\n",
    "            days = days_per_year[:367]\n",
    "        else:\n",
    "            days = days_per_year[:366]\n",
    "        for day_of_year in days:\n",
    "            for hour_of_day in hours_per_day:\n",
    "                data.append([district, year, day_of_year, hour_of_day])\n",
    "\n",
    "columns = [\"district\", \"year\", \"day_of_year\", \"hour_of_day\"]\n",
    "dataframe = pd.DataFrame(data, columns=columns)\n",
    "\n",
    "print(dataframe)\n"
   ]
  },
  {
   "cell_type": "code",
   "execution_count": 72,
   "id": "2d2131db",
   "metadata": {},
   "outputs": [],
   "source": [
    "import datetime\n",
    "\n",
    "def get_date_from_day_of_year(year, day_of_year):\n",
    "    date_object = datetime.datetime(year=year, month=1, day=1) + datetime.timedelta(days=day_of_year - 1)\n",
    "    \n",
    "    formatted_date = date_object.strftime('%m-%d')\n",
    "    \n",
    "    return formatted_date"
   ]
  },
  {
   "cell_type": "code",
   "execution_count": 75,
   "id": "046c8507",
   "metadata": {},
   "outputs": [],
   "source": [
    "for i in range(len(dataframe['day_of_year'])):\n",
    "    dataframe['day_of_year'][i] = get_date_from_day_of_year(int(dataframe['year'][i]), int(dataframe['day_of_year'][i])"
   ]
  },
  {
   "cell_type": "code",
   "execution_count": 124,
   "id": "3d8459e9",
   "metadata": {},
   "outputs": [
    {
     "name": "stdout",
     "output_type": "stream",
     "text": [
      "day is out of range for month\n"
     ]
    }
   ],
   "source": [
    "# Getting day_of_week\n",
    "import datetime\n",
    "\n",
    "def is_leap_year(year):\n",
    "    if year % 4 == 0:\n",
    "        if year % 100 == 0:\n",
    "            return year % 400 == 0\n",
    "        return True\n",
    "    return False\n",
    "\n",
    "def get_day_of_week(year, date_str):\n",
    "    date_object = datetime.datetime.strptime(date_str, '%m-%d')\n",
    "    \n",
    "    if date_object.month == 2 and date_object.day == 29 and not is_leap_year(year):\n",
    "        raise ValueError(f\"{year} is not a leap year, so February 29 does not exist.\")\n",
    "    \n",
    "    date_object = date_object.replace(year=year)\n",
    "    \n",
    "    day_of_week = date_object.strftime('%A')\n",
    "    \n",
    "    return day_of_week"
   ]
  },
  {
   "cell_type": "code",
   "execution_count": 125,
   "id": "6649c5e3",
   "metadata": {},
   "outputs": [],
   "source": [
    "for i in range(len(dataframe['day_of_year'])):\n",
    "    if dataframe['day_of_year'][i] == '02-29':\n",
    "        dataframe['day_of_week'][i] = 'fix_me_in_knime'\n",
    "    else:\n",
    "        dataframe['day_of_week'][i] = get_day_of_week(int(dataframe['year'][i]), dataframe['day_of_year'][i])"
   ]
  },
  {
   "cell_type": "code",
   "execution_count": 128,
   "id": "49f333ed",
   "metadata": {},
   "outputs": [
    {
     "data": {
      "text/html": [
       "<div>\n",
       "<style scoped>\n",
       "    .dataframe tbody tr th:only-of-type {\n",
       "        vertical-align: middle;\n",
       "    }\n",
       "\n",
       "    .dataframe tbody tr th {\n",
       "        vertical-align: top;\n",
       "    }\n",
       "\n",
       "    .dataframe thead th {\n",
       "        text-align: right;\n",
       "    }\n",
       "</style>\n",
       "<table border=\"1\" class=\"dataframe\">\n",
       "  <thead>\n",
       "    <tr style=\"text-align: right;\">\n",
       "      <th></th>\n",
       "      <th>district</th>\n",
       "      <th>year</th>\n",
       "      <th>day_of_year</th>\n",
       "      <th>hour_of_day</th>\n",
       "      <th>zero</th>\n",
       "      <th>actually_zero</th>\n",
       "    </tr>\n",
       "  </thead>\n",
       "  <tbody>\n",
       "    <tr>\n",
       "      <th>0</th>\n",
       "      <td>1</td>\n",
       "      <td>2001</td>\n",
       "      <td>01-01</td>\n",
       "      <td>0</td>\n",
       "      <td>Monday</td>\n",
       "      <td>0</td>\n",
       "    </tr>\n",
       "    <tr>\n",
       "      <th>1</th>\n",
       "      <td>1</td>\n",
       "      <td>2001</td>\n",
       "      <td>01-01</td>\n",
       "      <td>1</td>\n",
       "      <td>Monday</td>\n",
       "      <td>0</td>\n",
       "    </tr>\n",
       "    <tr>\n",
       "      <th>2</th>\n",
       "      <td>1</td>\n",
       "      <td>2001</td>\n",
       "      <td>01-01</td>\n",
       "      <td>2</td>\n",
       "      <td>Monday</td>\n",
       "      <td>0</td>\n",
       "    </tr>\n",
       "    <tr>\n",
       "      <th>3</th>\n",
       "      <td>1</td>\n",
       "      <td>2001</td>\n",
       "      <td>01-01</td>\n",
       "      <td>3</td>\n",
       "      <td>Monday</td>\n",
       "      <td>0</td>\n",
       "    </tr>\n",
       "    <tr>\n",
       "      <th>4</th>\n",
       "      <td>1</td>\n",
       "      <td>2001</td>\n",
       "      <td>01-01</td>\n",
       "      <td>4</td>\n",
       "      <td>Monday</td>\n",
       "      <td>0</td>\n",
       "    </tr>\n",
       "    <tr>\n",
       "      <th>...</th>\n",
       "      <td>...</td>\n",
       "      <td>...</td>\n",
       "      <td>...</td>\n",
       "      <td>...</td>\n",
       "      <td>...</td>\n",
       "      <td>...</td>\n",
       "    </tr>\n",
       "    <tr>\n",
       "      <th>3109387</th>\n",
       "      <td>25</td>\n",
       "      <td>2017</td>\n",
       "      <td>01-29</td>\n",
       "      <td>19</td>\n",
       "      <td>Sunday</td>\n",
       "      <td>0</td>\n",
       "    </tr>\n",
       "    <tr>\n",
       "      <th>3109388</th>\n",
       "      <td>25</td>\n",
       "      <td>2017</td>\n",
       "      <td>01-29</td>\n",
       "      <td>20</td>\n",
       "      <td>Sunday</td>\n",
       "      <td>0</td>\n",
       "    </tr>\n",
       "    <tr>\n",
       "      <th>3109389</th>\n",
       "      <td>25</td>\n",
       "      <td>2017</td>\n",
       "      <td>01-29</td>\n",
       "      <td>21</td>\n",
       "      <td>Sunday</td>\n",
       "      <td>0</td>\n",
       "    </tr>\n",
       "    <tr>\n",
       "      <th>3109390</th>\n",
       "      <td>25</td>\n",
       "      <td>2017</td>\n",
       "      <td>01-29</td>\n",
       "      <td>22</td>\n",
       "      <td>Sunday</td>\n",
       "      <td>0</td>\n",
       "    </tr>\n",
       "    <tr>\n",
       "      <th>3109391</th>\n",
       "      <td>25</td>\n",
       "      <td>2017</td>\n",
       "      <td>01-29</td>\n",
       "      <td>23</td>\n",
       "      <td>Sunday</td>\n",
       "      <td>0</td>\n",
       "    </tr>\n",
       "  </tbody>\n",
       "</table>\n",
       "<p>3109392 rows × 6 columns</p>\n",
       "</div>"
      ],
      "text/plain": [
       "         district  year day_of_year  hour_of_day    zero  actually_zero\n",
       "0               1  2001       01-01            0  Monday              0\n",
       "1               1  2001       01-01            1  Monday              0\n",
       "2               1  2001       01-01            2  Monday              0\n",
       "3               1  2001       01-01            3  Monday              0\n",
       "4               1  2001       01-01            4  Monday              0\n",
       "...           ...   ...         ...          ...     ...            ...\n",
       "3109387        25  2017       01-29           19  Sunday              0\n",
       "3109388        25  2017       01-29           20  Sunday              0\n",
       "3109389        25  2017       01-29           21  Sunday              0\n",
       "3109390        25  2017       01-29           22  Sunday              0\n",
       "3109391        25  2017       01-29           23  Sunday              0\n",
       "\n",
       "[3109392 rows x 6 columns]"
      ]
     },
     "execution_count": 128,
     "metadata": {},
     "output_type": "execute_result"
    }
   ],
   "source": []
  },
  {
   "cell_type": "code",
   "execution_count": 127,
   "id": "50bf15c8",
   "metadata": {},
   "outputs": [],
   "source": [
    "dataframe[\"zero\"] = 0"
   ]
  },
  {
   "cell_type": "code",
   "execution_count": 93,
   "id": "ffa0a042",
   "metadata": {},
   "outputs": [
    {
     "data": {
      "text/plain": [
       "'Friday'"
      ]
     },
     "execution_count": 93,
     "metadata": {},
     "output_type": "execute_result"
    }
   ],
   "source": [
    "get_day_of_week(2021, '01-01')"
   ]
  },
  {
   "cell_type": "code",
   "execution_count": 77,
   "id": "b98a9c44",
   "metadata": {},
   "outputs": [],
   "source": [
    "dataframe[\"zero\"] = 0"
   ]
  },
  {
   "cell_type": "code",
   "execution_count": 63,
   "id": "41ae2841",
   "metadata": {},
   "outputs": [
    {
     "ename": "ValueError",
     "evalue": "day is out of range for month",
     "output_type": "error",
     "traceback": [
      "\u001b[1;31m---------------------------------------------------------------------------\u001b[0m",
      "\u001b[1;31mValueError\u001b[0m                                Traceback (most recent call last)",
      "Cell \u001b[1;32mIn[63], line 15\u001b[0m\n\u001b[0;32m     13\u001b[0m districts \u001b[38;5;241m=\u001b[39m [district \u001b[38;5;28;01mfor\u001b[39;00m district \u001b[38;5;129;01min\u001b[39;00m \u001b[38;5;28mrange\u001b[39m(\u001b[38;5;241m1\u001b[39m, \u001b[38;5;241m26\u001b[39m) \u001b[38;5;28;01mif\u001b[39;00m district \u001b[38;5;129;01mnot\u001b[39;00m \u001b[38;5;129;01min\u001b[39;00m {\u001b[38;5;241m13\u001b[39m, \u001b[38;5;241m21\u001b[39m, \u001b[38;5;241m23\u001b[39m}]\n\u001b[0;32m     14\u001b[0m years \u001b[38;5;241m=\u001b[39m \u001b[38;5;28mlist\u001b[39m(\u001b[38;5;28mrange\u001b[39m(\u001b[38;5;241m2001\u001b[39m, \u001b[38;5;241m2018\u001b[39m))\n\u001b[1;32m---> 15\u001b[0m dates \u001b[38;5;241m=\u001b[39m [generate_date_range(year) \u001b[38;5;28;01mfor\u001b[39;00m year \u001b[38;5;129;01min\u001b[39;00m years]\n\u001b[0;32m     16\u001b[0m hour_of_day \u001b[38;5;241m=\u001b[39m \u001b[38;5;28mlist\u001b[39m(\u001b[38;5;28mrange\u001b[39m(\u001b[38;5;241m24\u001b[39m))\n\u001b[0;32m     18\u001b[0m \u001b[38;5;66;03m# Create a list of tuples for the dataframe\u001b[39;00m\n",
      "Cell \u001b[1;32mIn[63], line 15\u001b[0m, in \u001b[0;36m<listcomp>\u001b[1;34m(.0)\u001b[0m\n\u001b[0;32m     13\u001b[0m districts \u001b[38;5;241m=\u001b[39m [district \u001b[38;5;28;01mfor\u001b[39;00m district \u001b[38;5;129;01min\u001b[39;00m \u001b[38;5;28mrange\u001b[39m(\u001b[38;5;241m1\u001b[39m, \u001b[38;5;241m26\u001b[39m) \u001b[38;5;28;01mif\u001b[39;00m district \u001b[38;5;129;01mnot\u001b[39;00m \u001b[38;5;129;01min\u001b[39;00m {\u001b[38;5;241m13\u001b[39m, \u001b[38;5;241m21\u001b[39m, \u001b[38;5;241m23\u001b[39m}]\n\u001b[0;32m     14\u001b[0m years \u001b[38;5;241m=\u001b[39m \u001b[38;5;28mlist\u001b[39m(\u001b[38;5;28mrange\u001b[39m(\u001b[38;5;241m2001\u001b[39m, \u001b[38;5;241m2018\u001b[39m))\n\u001b[1;32m---> 15\u001b[0m dates \u001b[38;5;241m=\u001b[39m [\u001b[43mgenerate_date_range\u001b[49m\u001b[43m(\u001b[49m\u001b[43myear\u001b[49m\u001b[43m)\u001b[49m \u001b[38;5;28;01mfor\u001b[39;00m year \u001b[38;5;129;01min\u001b[39;00m years]\n\u001b[0;32m     16\u001b[0m hour_of_day \u001b[38;5;241m=\u001b[39m \u001b[38;5;28mlist\u001b[39m(\u001b[38;5;28mrange\u001b[39m(\u001b[38;5;241m24\u001b[39m))\n\u001b[0;32m     18\u001b[0m \u001b[38;5;66;03m# Create a list of tuples for the dataframe\u001b[39;00m\n",
      "Cell \u001b[1;32mIn[63], line 7\u001b[0m, in \u001b[0;36mgenerate_date_range\u001b[1;34m(year)\u001b[0m\n\u001b[0;32m      5\u001b[0m start_date \u001b[38;5;241m=\u001b[39m pd\u001b[38;5;241m.\u001b[39mTimestamp(year\u001b[38;5;241m=\u001b[39myear, month\u001b[38;5;241m=\u001b[39m\u001b[38;5;241m1\u001b[39m, day\u001b[38;5;241m=\u001b[39m\u001b[38;5;241m1\u001b[39m)\n\u001b[0;32m      6\u001b[0m end_date \u001b[38;5;241m=\u001b[39m pd\u001b[38;5;241m.\u001b[39mTimestamp(year\u001b[38;5;241m=\u001b[39myear \u001b[38;5;241m+\u001b[39m \u001b[38;5;241m1\u001b[39m, month\u001b[38;5;241m=\u001b[39m\u001b[38;5;241m1\u001b[39m, day\u001b[38;5;241m=\u001b[39m\u001b[38;5;241m1\u001b[39m)\n\u001b[1;32m----> 7\u001b[0m \u001b[38;5;28;01mif\u001b[39;00m \u001b[43mpd\u001b[49m\u001b[38;5;241;43m.\u001b[39;49m\u001b[43mTimestamp\u001b[49m\u001b[43m(\u001b[49m\u001b[43myear\u001b[49m\u001b[38;5;241;43m=\u001b[39;49m\u001b[43myear\u001b[49m\u001b[43m,\u001b[49m\u001b[43m \u001b[49m\u001b[43mmonth\u001b[49m\u001b[38;5;241;43m=\u001b[39;49m\u001b[38;5;241;43m2\u001b[39;49m\u001b[43m,\u001b[49m\u001b[43m \u001b[49m\u001b[43mday\u001b[49m\u001b[38;5;241;43m=\u001b[39;49m\u001b[38;5;241;43m29\u001b[39;49m\u001b[43m)\u001b[49m\u001b[38;5;241m.\u001b[39mmonth \u001b[38;5;241m==\u001b[39m \u001b[38;5;241m2\u001b[39m:\n\u001b[0;32m      8\u001b[0m     end_date \u001b[38;5;241m-\u001b[39m\u001b[38;5;241m=\u001b[39m pd\u001b[38;5;241m.\u001b[39mTimedelta(days\u001b[38;5;241m=\u001b[39m\u001b[38;5;241m1\u001b[39m)  \u001b[38;5;66;03m# Adjust for leap year\u001b[39;00m\n\u001b[0;32m      9\u001b[0m date_range \u001b[38;5;241m=\u001b[39m pd\u001b[38;5;241m.\u001b[39mdate_range(start\u001b[38;5;241m=\u001b[39mstart_date, end\u001b[38;5;241m=\u001b[39mend_date, closed\u001b[38;5;241m=\u001b[39m\u001b[38;5;124m'\u001b[39m\u001b[38;5;124mleft\u001b[39m\u001b[38;5;124m'\u001b[39m)\n",
      "File \u001b[1;32m~\\anaconda3\\lib\\site-packages\\pandas\\_libs\\tslibs\\timestamps.pyx:1667\u001b[0m, in \u001b[0;36mpandas._libs.tslibs.timestamps.Timestamp.__new__\u001b[1;34m()\u001b[0m\n",
      "\u001b[1;31mValueError\u001b[0m: day is out of range for month"
     ]
    }
   ],
   "source": [
    "import pandas as pd\n",
    "\n",
    "def generate_date_range(year):\n",
    "    start_date = pd.Timestamp(year=year, month=1, day=1)\n",
    "    end_date = pd.Timestamp(year=year + 1, month=1, day=1)\n",
    "    if pd.Timestamp(year=year, month=2, day=29).month == 2:\n",
    "        end_date -= pd.Timedelta(days=1)  # Adjust for leap year\n",
    "    date_range = pd.date_range(start=start_date, end=end_date, closed='left')\n",
    "    return date_range.strftime('%m-%d')\n",
    "\n",
    "districts = [district for district in range(1, 26) if district not in {13, 21, 23}]\n",
    "years = list(range(2001, 2018))\n",
    "dates = [generate_date_range(year) for year in years]\n",
    "hour_of_day = list(range(24))\n",
    "\n",
    "data = [(district, year, date, hour) for district in districts\n",
    "                                     for year, date in zip(years, dates)\n",
    "                                     for hour in hour_of_day]\n",
    "\n",
    "df = pd.DataFrame(data, columns=['district', 'year', 'date', 'hour_of_day'])\n",
    "\n",
    "print(df.head())\n"
   ]
  },
  {
   "cell_type": "code",
   "execution_count": 16,
   "id": "488251f0",
   "metadata": {},
   "outputs": [
    {
     "name": "stdout",
     "output_type": "stream",
     "text": [
      "         district  year  day_of_year  hour_of_day  zero day_of_week\n",
      "0               1  2001            1            0     0      Monday\n",
      "1               1  2001            1            1     0      Monday\n",
      "2               1  2001            1            2     0      Monday\n",
      "3               1  2001            1            3     0      Monday\n",
      "4               1  2001            1            4     0      Monday\n",
      "...           ...   ...          ...          ...   ...         ...\n",
      "3343819        25  2017           29           19     0      Sunday\n",
      "3343820        25  2017           29           20     0      Sunday\n",
      "3343821        25  2017           29           21     0      Sunday\n",
      "3343822        25  2017           29           22     0      Sunday\n",
      "3343823        25  2017           29           23     0      Sunday\n",
      "\n",
      "[3343824 rows x 6 columns]\n"
     ]
    }
   ],
   "source": [
    "dataframe[\"day_of_week\"] = pd.to_datetime(dataframe[\"year\"].astype(str) + \"-\" + dataframe[\"day_of_year\"].astype(str), format=\"%Y-%j\").dt.dayofweek\n",
    "\n",
    "day_of_week_names = [\"Monday\", \"Tuesday\", \"Wednesday\", \"Thursday\", \"Friday\", \"Saturday\", \"Sunday\"]\n",
    "dataframe[\"day_of_week\"] = dataframe[\"day_of_week\"].map(lambda x: day_of_week_names[x])\n",
    "\n",
    "print(dataframe)\n"
   ]
  },
  {
   "cell_type": "code",
   "execution_count": 129,
   "id": "aab2213d",
   "metadata": {},
   "outputs": [],
   "source": [
    "import csv\n",
    "\n",
    "f = open(r'C:\\Users\\curtu\\OneDrive - Durham University\\Documents\\All_timepoints_table_4.csv', 'w')\n",
    "\n",
    "writer = csv.writer(f)\n",
    "\n",
    "writer.writerow(dataframe.columns)\n",
    "for index, row in dataframe.iterrows():\n",
    "    writer.writerow(row)\n",
    "\n",
    "f.close()"
   ]
  }
 ],
 "metadata": {
  "kernelspec": {
   "display_name": "Python 3 (ipykernel)",
   "language": "python",
   "name": "python3"
  },
  "language_info": {
   "codemirror_mode": {
    "name": "ipython",
    "version": 3
   },
   "file_extension": ".py",
   "mimetype": "text/x-python",
   "name": "python",
   "nbconvert_exporter": "python",
   "pygments_lexer": "ipython3",
   "version": "3.10.9"
  }
 },
 "nbformat": 4,
 "nbformat_minor": 5
}
